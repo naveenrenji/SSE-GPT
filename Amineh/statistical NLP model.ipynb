{
 "cells": [
  {
   "cell_type": "code",
   "execution_count": 4,
   "id": "57f7fd32",
   "metadata": {},
   "outputs": [
    {
     "name": "stdout",
     "output_type": "stream",
     "text": [
      "The median of your data is 6.5.\n"
     ]
    }
   ],
   "source": [
    "def calculate_statistics(stat, data):\n",
    "    if stat == \"mean\":\n",
    "        return sum(data) / len(data)\n",
    "    elif stat == \"median\":\n",
    "        sorted_data = sorted(data)\n",
    "        index = len(data) // 2\n",
    "        if len(data) % 2 == 0:\n",
    "            return sum(sorted_data[index - 1:index + 1]) / 2\n",
    "        else:\n",
    "            return sorted_data[index]\n",
    "    else:\n",
    "        raise ValueError(\"Invalid stat\")\n",
    "\n",
    "\n",
    "def language_to_command(query):\n",
    "    if \"mean\" in query:\n",
    "        return \"mean\"\n",
    "    elif \"median\" in query:\n",
    "        return \"median\"\n",
    "    else:\n",
    "        raise ValueError(\"Invalid query\")\n",
    "\n",
    "\n",
    "user_query = \"What is the median of my data?\"\n",
    "command = language_to_command(user_query)\n",
    "data = [1, 2, 3, 4, 5, 6, 7, 8, 9, 10, 11, 14]\n",
    "result = calculate_statistics(command, data)\n",
    "response = f\"The {command} of your data is {result}.\"\n",
    "print(response)\n"
   ]
  },
  {
   "cell_type": "code",
   "execution_count": null,
   "id": "eacd0d47",
   "metadata": {},
   "outputs": [],
   "source": []
  }
 ],
 "metadata": {
  "kernelspec": {
   "display_name": "Python 3 (ipykernel)",
   "language": "python",
   "name": "python3"
  },
  "language_info": {
   "codemirror_mode": {
    "name": "ipython",
    "version": 3
   },
   "file_extension": ".py",
   "mimetype": "text/x-python",
   "name": "python",
   "nbconvert_exporter": "python",
   "pygments_lexer": "ipython3",
   "version": "3.9.16"
  }
 },
 "nbformat": 4,
 "nbformat_minor": 5
}
